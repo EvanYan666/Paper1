{
 "cells": [
  {
   "cell_type": "code",
   "execution_count": 2,
   "id": "c2de413b",
   "metadata": {},
   "outputs": [
    {
     "name": "stdout",
     "output_type": "stream",
     "text": [
      "Model: \"sequential\"\n",
      "_________________________________________________________________\n",
      "Layer (type)                 Output Shape              Param #   \n",
      "=================================================================\n",
      "dense (Dense)                (None, 1)                 2         \n",
      "_________________________________________________________________\n",
      "dense_1 (Dense)              (None, 64)                128       \n",
      "_________________________________________________________________\n",
      "dense_2 (Dense)              (None, 32)                2080      \n",
      "_________________________________________________________________\n",
      "dense_3 (Dense)              (None, 16)                528       \n",
      "_________________________________________________________________\n",
      "dense_4 (Dense)              (None, 32)                544       \n",
      "_________________________________________________________________\n",
      "dense_5 (Dense)              (None, 64)                2112      \n",
      "_________________________________________________________________\n",
      "dense_6 (Dense)              (None, 1)                 65        \n",
      "=================================================================\n",
      "Total params: 5,459\n",
      "Trainable params: 5,459\n",
      "Non-trainable params: 0\n",
      "_________________________________________________________________\n"
     ]
    },
    {
     "data": {
      "image/png": "[encoded data removed]",
      "text/plain": [
       "<Figure size 1080x360 with 1 Axes>"
      ]
     },
     "metadata": {
      "needs_background": "light"
     },
     "output_type": "display_data"
    },
    {
     "name": "stdout",
     "output_type": "stream",
     "text": [
      "313/313 [==============================] - 0s 359us/step - loss: 9.7262e-18\n",
      "['loss']\n"
     ]
    }
   ],
   "source": [
    "import glob\n",
    "import numpy as np\n",
    "import matplotlib.pyplot as plt\n",
    "import pandas as pd\n",
    "import numpy as np\n",
    "import sklearn\n",
    "import tensorflow as tf\n",
    "model = tf.keras.models.load_model('C:/Users/yanzh/Interpolation//TP/saved_model/my_modelBB09_TP')\n",
    "# Check its architecture\n",
    "model.summary()\n",
    "\n",
    "df = pd.read_csv(\"E:/1 My Project/Interpolated data/TP_data/BB09.csv\")\n",
    "time = df['time'].values\n",
    "TP = df['TP'].values\n",
    "df\n",
    "\n",
    "#Transform the normalized scale to real scale\n",
    "TP_min = 0.001\n",
    "TP_max = 0.17\n",
    "time_min = 28933.43                   \n",
    "time_max = 44452.45                        \n",
    "\n",
    "newtimepoints_scaled = np.linspace(time[0] - (time[1] - time[0]),time[-1], 10000)\n",
    "y_predicted_scaled = model.predict(newtimepoints_scaled)\n",
    "\n",
    "newtimepoints = newtimepoints_scaled*(time_max - time_min) + time_min\n",
    "y_predicted = y_predicted_scaled*(TP_max - TP_min) + TP_min\n",
    "\n",
    "# Display the result\n",
    "import matplotlib.pylab as pylab\n",
    "params = {'legend.fontsize': 'x-large',\n",
    "          'figure.figsize': (15, 5),\n",
    "         'axes.labelsize': 'x-large',\n",
    "         'axes.titlesize':'x-large',\n",
    "         'xtick.labelsize':'x-large',\n",
    "         'ytick.labelsize':'x-large'}\n",
    "pylab.rcParams.update(params)\n",
    "plt.scatter(time*(time_max - time_min) + time_min, TP*(TP_max - TP_min) + TP_min, label='Original Data')\n",
    "plt.scatter(newtimepoints, y_predicted, c = 'red', s = 1, label = 'Interpolated Data')\n",
    "plt.xlabel('Time')\n",
    "plt.ylabel('TP')\n",
    "plt.legend()\n",
    "plt.show()\n",
    "\n",
    "model.evaluate(newtimepoints_scaled, y_predicted_scaled, batch_size=32)\n",
    "print(model.metrics_names)"
   ]
  },
  {
   "cell_type": "code",
   "execution_count": 4,
   "id": "22199e4d",
   "metadata": {},
   "outputs": [
    {
     "data": {
      "text/plain": [
       "array([[0.02816201],\n",
       "       [0.02773209],\n",
       "       [0.02728763],\n",
       "       [0.02684355],\n",
       "       [0.02639948],\n",
       "       [0.02595538],\n",
       "       [0.02550402],\n",
       "       [0.02507451],\n",
       "       [0.02463041],\n",
       "       [0.02418754],\n",
       "       [0.02376125],\n",
       "       [0.02333499],\n",
       "       [0.02290169],\n",
       "       [0.02248939],\n",
       "       [0.0220631 ],\n",
       "       [0.02197609],\n",
       "       [0.02262632],\n",
       "       [0.02349725],\n",
       "       [0.02438244],\n",
       "       [0.02527902],\n",
       "       [0.02744296],\n",
       "       [0.0467434 ]], dtype=float32)"
      ]
     },
     "execution_count": 4,
     "metadata": {},
     "output_type": "execute_result"
    }
   ],
   "source": [
    "interpolation = model.predict([0.421003828\n",
    ",0.424805614\n",
    ",0.428736274\n",
    ",0.432666933\n",
    ",0.436597593\n",
    ",0.440528253\n",
    ",0.44452335\n",
    ",0.448325136\n",
    ",0.452255796\n",
    ",0.456186455\n",
    ",0.460117115\n",
    ",0.464047775\n",
    ",0.468042872\n",
    ",0.471844658\n",
    ",0.475775318\n",
    ",0.479705977\n",
    ",0.483636637\n",
    ",0.487567297\n",
    ",0.491562394\n",
    ",0.495428617\n",
    ",0.503289936\n",
    ",0.830759006\n",
    "])\n",
    "interpolation"
   ]
  },
  {
   "cell_type": "code",
   "execution_count": null,
   "id": "49e22d6f",
   "metadata": {},
   "outputs": [],
   "source": []
  }
 ],
 "metadata": {
  "kernelspec": {
   "display_name": "Python 3",
   "language": "python",
   "name": "python3"
  },
  "language_info": {
   "codemirror_mode": {
    "name": "ipython",
    "version": 3
   },
   "file_extension": ".py",
   "mimetype": "text/x-python",
   "name": "python",
   "nbconvert_exporter": "python",
   "pygments_lexer": "ipython3",
   "version": "3.8.8"
  }
 },
 "nbformat": 4,
 "nbformat_minor": 5
}
