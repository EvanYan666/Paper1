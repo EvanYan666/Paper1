{
 "cells": [
  {
   "cell_type": "code",
   "execution_count": 1,
   "id": "78bb0fbb",
   "metadata": {},
   "outputs": [
    {
     "name": "stdout",
     "output_type": "stream",
     "text": [
      "Model: \"sequential\"\n",
      "_________________________________________________________________\n",
      "Layer (type)                 Output Shape              Param #   \n",
      "=================================================================\n",
      "dense (Dense)                (None, 1)                 2         \n",
      "_________________________________________________________________\n",
      "dense_1 (Dense)              (None, 64)                128       \n",
      "_________________________________________________________________\n",
      "dense_2 (Dense)              (None, 32)                2080      \n",
      "_________________________________________________________________\n",
      "dense_3 (Dense)              (None, 16)                528       \n",
      "_________________________________________________________________\n",
      "dense_4 (Dense)              (None, 32)                544       \n",
      "_________________________________________________________________\n",
      "dense_5 (Dense)              (None, 64)                2112      \n",
      "_________________________________________________________________\n",
      "dense_6 (Dense)              (None, 1)                 65        \n",
      "=================================================================\n",
      "Total params: 5,459\n",
      "Trainable params: 5,459\n",
      "Non-trainable params: 0\n",
      "_________________________________________________________________\n"
     ]
    },
    {
     "data": {
      "image/png": "[encoded data removed]",
      "text/plain": [
       "<Figure size 1080x360 with 1 Axes>"
      ]
     },
     "metadata": {
      "needs_background": "light"
     },
     "output_type": "display_data"
    },
    {
     "name": "stdout",
     "output_type": "stream",
     "text": [
      "313/313 [==============================] - 0s 356us/step - loss: 4.1291e-18\n",
      "['loss']\n"
     ]
    }
   ],
   "source": [
    "import glob\n",
    "import numpy as np\n",
    "import matplotlib.pyplot as plt\n",
    "import pandas as pd\n",
    "import numpy as np\n",
    "import sklearn\n",
    "import tensorflow as tf\n",
    "model = tf.keras.models.load_model('C:/Users/yanzh/Interpolation//NOX/saved_model/my_modelBB51_NOX')\n",
    "# Check its architecture\n",
    "model.summary()\n",
    "\n",
    "df = pd.read_csv(\"E:/1 My Project/Interpolated data/NOX_data/BB51.csv\")\n",
    "time = df['time'].values\n",
    "NOX = df['NOX'].values\n",
    "df\n",
    "\n",
    "#Transform the normalized scale to real scale\n",
    "NOX_min = 0.005\n",
    "NOX_max = 0.68\n",
    "time_min = 32723.43                         \n",
    "time_max = 44454.46                             \n",
    "\n",
    "newtimepoints_scaled = np.linspace(time[0] - (time[1] - time[0]),time[-1], 10000)\n",
    "y_predicted_scaled = model.predict(newtimepoints_scaled)\n",
    "\n",
    "newtimepoints = newtimepoints_scaled*(time_max - time_min) + time_min\n",
    "y_predicted = y_predicted_scaled*(NOX_max - NOX_min) + NOX_min\n",
    "\n",
    "# Display the result\n",
    "import matplotlib.pylab as pylab\n",
    "params = {'legend.fontsize': 'x-large',\n",
    "          'figure.figsize': (15, 5),\n",
    "         'axes.labelsize': 'x-large',\n",
    "         'axes.titlesize':'x-large',\n",
    "         'xtick.labelsize':'x-large',\n",
    "         'ytick.labelsize':'x-large'}\n",
    "pylab.rcParams.update(params)\n",
    "plt.scatter(time*(time_max - time_min) + time_min, NOX*(NOX_max - NOX_min) + NOX_min, label='Original Data')\n",
    "plt.scatter(newtimepoints, y_predicted, c = 'red', s = 1, label = 'Interpolated Data')\n",
    "plt.xlabel('Time')\n",
    "plt.ylabel('NOX')\n",
    "plt.legend()\n",
    "plt.show()\n",
    "\n",
    "model.evaluate(newtimepoints_scaled, y_predicted_scaled, batch_size=32)\n",
    "print(model.metrics_names)"
   ]
  },
  {
   "cell_type": "code",
   "execution_count": 2,
   "id": "c7d61416",
   "metadata": {},
   "outputs": [
    {
     "data": {
      "text/plain": [
       "array([[0.01417308],\n",
       "       [0.01414042],\n",
       "       [0.01407289],\n",
       "       [0.01403913],\n",
       "       [0.01400536],\n",
       "       [0.01397104],\n",
       "       [0.01392327],\n",
       "       [0.01386949],\n",
       "       [0.01381571],\n",
       "       [0.01376194],\n",
       "       [0.01370816],\n",
       "       [0.01365351],\n",
       "       [0.01360149],\n",
       "       [0.01354772],\n",
       "       [0.01354768],\n",
       "       [0.01358508],\n",
       "       [0.01362342],\n",
       "       [0.01366099],\n",
       "       [0.01356029],\n",
       "       [0.01335551],\n",
       "       [0.01184336],\n",
       "       [0.01165562],\n",
       "       [0.01146161]], dtype=float32)"
      ]
     },
     "execution_count": 2,
     "metadata": {},
     "output_type": "execute_result"
    }
   ],
   "source": [
    "interpolation = model.predict([0.234043158\n",
    ",0.239072557\n",
    ",0.24947233\n",
    ",0.254672217\n",
    ",0.259872104\n",
    ",0.265157235\n",
    ",0.270186634\n",
    ",0.275386521\n",
    ",0.280586408\n",
    ",0.285786295\n",
    ",0.290986182\n",
    ",0.296271313\n",
    ",0.301300712\n",
    ",0.306500599\n",
    ",0.311700486\n",
    ",0.316900372\n",
    ",0.322100259\n",
    ",0.32738539\n",
    ",0.332500033\n",
    ",0.342899807\n",
    ",0.955207805\n",
    ",0.957765126\n",
    ",0.960407691\n",
    "])\n",
    "interpolation"
   ]
  },
  {
   "cell_type": "code",
   "execution_count": null,
   "id": "9daaa522",
   "metadata": {},
   "outputs": [],
   "source": []
  }
 ],
 "metadata": {
  "kernelspec": {
   "display_name": "Python 3",
   "language": "python",
   "name": "python3"
  },
  "language_info": {
   "codemirror_mode": {
    "name": "ipython",
    "version": 3
   },
   "file_extension": ".py",
   "mimetype": "text/x-python",
   "name": "python",
   "nbconvert_exporter": "python",
   "pygments_lexer": "ipython3",
   "version": "3.8.8"
  }
 },
 "nbformat": 4,
 "nbformat_minor": 5
}
