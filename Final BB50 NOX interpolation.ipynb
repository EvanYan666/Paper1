{
 "cells": [
  {
   "cell_type": "code",
   "execution_count": 1,
   "id": "a2ceeb3e",
   "metadata": {},
   "outputs": [
    {
     "name": "stdout",
     "output_type": "stream",
     "text": [
      "Model: \"sequential\"\n",
      "_________________________________________________________________\n",
      "Layer (type)                 Output Shape              Param #   \n",
      "=================================================================\n",
      "dense (Dense)                (None, 1)                 2         \n",
      "_________________________________________________________________\n",
      "dense_1 (Dense)              (None, 64)                128       \n",
      "_________________________________________________________________\n",
      "dense_2 (Dense)              (None, 32)                2080      \n",
      "_________________________________________________________________\n",
      "dense_3 (Dense)              (None, 16)                528       \n",
      "_________________________________________________________________\n",
      "dense_4 (Dense)              (None, 32)                544       \n",
      "_________________________________________________________________\n",
      "dense_5 (Dense)              (None, 64)                2112      \n",
      "_________________________________________________________________\n",
      "dense_6 (Dense)              (None, 1)                 65        \n",
      "=================================================================\n",
      "Total params: 5,459\n",
      "Trainable params: 5,459\n",
      "Non-trainable params: 0\n",
      "_________________________________________________________________\n"
     ]
    },
    {
     "data": {
      "image/png": "[encoded data removed]",
      "text/plain": [
       "<Figure size 1080x360 with 1 Axes>"
      ]
     },
     "metadata": {
      "needs_background": "light"
     },
     "output_type": "display_data"
    },
    {
     "name": "stdout",
     "output_type": "stream",
     "text": [
      "313/313 [==============================] - 0s 337us/step - loss: 2.8059e-18\n",
      "['loss']\n"
     ]
    }
   ],
   "source": [
    "import glob\n",
    "import numpy as np\n",
    "import matplotlib.pyplot as plt\n",
    "import pandas as pd\n",
    "import numpy as np\n",
    "import sklearn\n",
    "import tensorflow as tf\n",
    "model = tf.keras.models.load_model('C:/Users/yanzh/Interpolation//NOX/saved_model/my_modelBB50_NOX')\n",
    "# Check its architecture\n",
    "model.summary()\n",
    "\n",
    "df = pd.read_csv(\"E:/1 My Project/Interpolated data/NOX_data/BB50.csv\")\n",
    "time = df['time'].values\n",
    "NOX = df['NOX'].values\n",
    "df\n",
    "\n",
    "#Transform the normalized scale to real scale\n",
    "NOX_min = 0.005\n",
    "NOX_max = 0.75\n",
    "time_min = 32723.46                        \n",
    "time_max = 44454.42                            \n",
    "\n",
    "newtimepoints_scaled = np.linspace(time[0] - (time[1] - time[0]),time[-1], 10000)\n",
    "y_predicted_scaled = model.predict(newtimepoints_scaled)\n",
    "\n",
    "newtimepoints = newtimepoints_scaled*(time_max - time_min) + time_min\n",
    "y_predicted = y_predicted_scaled*(NOX_max - NOX_min) + NOX_min\n",
    "\n",
    "# Display the result\n",
    "import matplotlib.pylab as pylab\n",
    "params = {'legend.fontsize': 'x-large',\n",
    "          'figure.figsize': (15, 5),\n",
    "         'axes.labelsize': 'x-large',\n",
    "         'axes.titlesize':'x-large',\n",
    "         'xtick.labelsize':'x-large',\n",
    "         'ytick.labelsize':'x-large'}\n",
    "pylab.rcParams.update(params)\n",
    "plt.scatter(time*(time_max - time_min) + time_min, NOX*(NOX_max - NOX_min) + NOX_min, label='Original Data')\n",
    "plt.scatter(newtimepoints, y_predicted, c = 'red', s = 1, label = 'Interpolated Data')\n",
    "plt.xlabel('Time')\n",
    "plt.ylabel('NOX')\n",
    "plt.legend()\n",
    "plt.show()\n",
    "\n",
    "model.evaluate(newtimepoints_scaled, y_predicted_scaled, batch_size=32)\n",
    "print(model.metrics_names)"
   ]
  },
  {
   "cell_type": "code",
   "execution_count": 2,
   "id": "40d5c034",
   "metadata": {},
   "outputs": [
    {
     "data": {
      "text/plain": [
       "array([[0.02161262],\n",
       "       [0.02104772],\n",
       "       [0.01987963],\n",
       "       [0.01929559],\n",
       "       [0.01871155],\n",
       "       [0.01811793],\n",
       "       [0.01747742],\n",
       "       [0.01690711],\n",
       "       [0.01634942],\n",
       "       [0.01579172],\n",
       "       [0.01523402],\n",
       "       [0.01469077],\n",
       "       [0.01418186],\n",
       "       [0.0136557 ],\n",
       "       [0.01312954],\n",
       "       [0.01312015],\n",
       "       [0.01317522],\n",
       "       [0.0132312 ],\n",
       "       [0.01328537],\n",
       "       [0.01339552],\n",
       "       [0.0119262 ],\n",
       "       [0.01176414],\n",
       "       [0.01159667]], dtype=float32)"
      ]
     },
     "execution_count": 2,
     "metadata": {},
     "output_type": "execute_result"
    }
   ],
   "source": [
    "interpolation = model.predict([0.234042264\n",
    ",0.239071688\n",
    ",0.249471514\n",
    ",0.254671427\n",
    ",0.25987134\n",
    ",0.265156498\n",
    ",0.270185922\n",
    ",0.275385835\n",
    ",0.280585748\n",
    ",0.285785661\n",
    ",0.290985574\n",
    ",0.296270732\n",
    ",0.301300156\n",
    ",0.306500069\n",
    ",0.311699982\n",
    ",0.316899895\n",
    ",0.322099808\n",
    ",0.327384966\n",
    ",0.332499634\n",
    ",0.342899461\n",
    ",0.955210539\n",
    ",0.957767873\n",
    ",0.960410452\n",
    "])\n",
    "interpolation"
   ]
  },
  {
   "cell_type": "code",
   "execution_count": null,
   "id": "503a1216",
   "metadata": {},
   "outputs": [],
   "source": []
  }
 ],
 "metadata": {
  "kernelspec": {
   "display_name": "Python 3",
   "language": "python",
   "name": "python3"
  },
  "language_info": {
   "codemirror_mode": {
    "name": "ipython",
    "version": 3
   },
   "file_extension": ".py",
   "mimetype": "text/x-python",
   "name": "python",
   "nbconvert_exporter": "python",
   "pygments_lexer": "ipython3",
   "version": "3.8.8"
  }
 },
 "nbformat": 4,
 "nbformat_minor": 5
}
