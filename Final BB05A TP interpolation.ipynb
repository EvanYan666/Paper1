{
 "cells": [
  {
   "cell_type": "code",
   "execution_count": 4,
   "id": "c91dfe27",
   "metadata": {},
   "outputs": [
    {
     "name": "stdout",
     "output_type": "stream",
     "text": [
      "Model: \"sequential\"\n",
      "_________________________________________________________________\n",
      "Layer (type)                 Output Shape              Param #   \n",
      "=================================================================\n",
      "dense (Dense)                (None, 1)                 2         \n",
      "_________________________________________________________________\n",
      "dense_1 (Dense)              (None, 64)                128       \n",
      "_________________________________________________________________\n",
      "dense_2 (Dense)              (None, 32)                2080      \n",
      "_________________________________________________________________\n",
      "dense_3 (Dense)              (None, 16)                528       \n",
      "_________________________________________________________________\n",
      "dense_4 (Dense)              (None, 32)                544       \n",
      "_________________________________________________________________\n",
      "dense_5 (Dense)              (None, 64)                2112      \n",
      "_________________________________________________________________\n",
      "dense_6 (Dense)              (None, 1)                 65        \n",
      "=================================================================\n",
      "Total params: 5,459\n",
      "Trainable params: 5,459\n",
      "Non-trainable params: 0\n",
      "_________________________________________________________________\n"
     ]
    },
    {
     "data": {
      "image/png": "[encoded data removed]",
      "text/plain": [
       "<Figure size 1080x360 with 1 Axes>"
      ]
     },
     "metadata": {
      "needs_background": "light"
     },
     "output_type": "display_data"
    },
    {
     "name": "stdout",
     "output_type": "stream",
     "text": [
      "313/313 [==============================] - 0s 333us/step - loss: 1.9177e-17\n",
      "['loss']\n"
     ]
    }
   ],
   "source": [
    "import glob\n",
    "import numpy as np\n",
    "import matplotlib.pyplot as plt\n",
    "import pandas as pd\n",
    "import numpy as np\n",
    "import sklearn\n",
    "import tensorflow as tf\n",
    "model = tf.keras.models.load_model('C:/Users/yanzh/Interpolation//TP/saved_model/my_modelBB05A_TP')\n",
    "# Check its architecture\n",
    "model.summary()\n",
    "\n",
    "df = pd.read_csv(\"E:/1 My Project/Interpolated data/TP_data/BB05A.csv\")\n",
    "time = df['time'].values\n",
    "TP = df['TP'].values\n",
    "df\n",
    "\n",
    "#Transform the normalized scale to real scale\n",
    "TP_min = 0.001\n",
    "TP_max = 0.17\n",
    "time_min = 35436.47                  \n",
    "time_max = 44452.48                       \n",
    "\n",
    "newtimepoints_scaled = np.linspace(time[0] - (time[1] - time[0]),time[-1], 10000)\n",
    "y_predicted_scaled = model.predict(newtimepoints_scaled)\n",
    "\n",
    "newtimepoints = newtimepoints_scaled*(time_max - time_min) + time_min\n",
    "y_predicted = y_predicted_scaled*(TP_max - TP_min) + TP_min\n",
    "\n",
    "# Display the result\n",
    "import matplotlib.pylab as pylab\n",
    "params = {'legend.fontsize': 'x-large',\n",
    "          'figure.figsize': (15, 5),\n",
    "         'axes.labelsize': 'x-large',\n",
    "         'axes.titlesize':'x-large',\n",
    "         'xtick.labelsize':'x-large',\n",
    "         'ytick.labelsize':'x-large'}\n",
    "pylab.rcParams.update(params)\n",
    "plt.scatter(time*(time_max - time_min) + time_min, TP*(TP_max - TP_min) + TP_min, label='Original Data')\n",
    "plt.scatter(newtimepoints, y_predicted, c = 'red', s = 1, label = 'Interpolated Data')\n",
    "plt.xlabel('Time')\n",
    "plt.ylabel('TP')\n",
    "plt.legend()\n",
    "plt.show()\n",
    "\n",
    "model.evaluate(newtimepoints_scaled, y_predicted_scaled, batch_size=32)\n",
    "print(model.metrics_names)"
   ]
  },
  {
   "cell_type": "code",
   "execution_count": 5,
   "id": "932d4d5d",
   "metadata": {},
   "outputs": [
    {
     "data": {
      "text/plain": [
       "array([[0.01292681],\n",
       "       [0.01289212],\n",
       "       [0.01280944],\n",
       "       [0.01271112],\n",
       "       [0.01276167],\n",
       "       [0.01309607],\n",
       "       [0.01343596],\n",
       "       [0.01375939],\n",
       "       [0.0140938 ],\n",
       "       [0.01442821],\n",
       "       [0.0147626 ],\n",
       "       [0.015097  ],\n",
       "       [0.0154369 ],\n",
       "       [0.01576034],\n",
       "       [0.01609473],\n",
       "       [0.01642914],\n",
       "       [0.0167642 ],\n",
       "       [0.01720817],\n",
       "       [0.01766539],\n",
       "       [0.01811746],\n",
       "       [0.01920209],\n",
       "       [0.06119558],\n",
       "       [0.04511053],\n",
       "       [0.04489218],\n",
       "       [0.04466657]], dtype=float32)"
      ]
     },
     "execution_count": 5,
     "metadata": {},
     "output_type": "execute_result"
    }
   ],
   "source": [
    "interpolation = model.predict([0.003385723\n",
    ",0.009929641\n",
    ",0.016695387\n",
    ",0.023461134\n",
    ",0.03022688\n",
    ",0.036992626\n",
    ",0.043869286\n",
    ",0.050413204\n",
    ",0.05717895\n",
    ",0.063944696\n",
    ",0.070710443\n",
    ",0.077476189\n",
    ",0.084352849\n",
    ",0.090896767\n",
    ",0.097662513\n",
    ",0.104428259\n",
    ",0.111194006\n",
    ",0.117959752\n",
    ",0.124836412\n",
    ",0.131491244\n",
    ",0.145022736\n",
    ",0.708687029\n",
    ",0.941717072\n",
    ",0.945044488\n",
    ",0.948482818\n",
    "])\n",
    "interpolation"
   ]
  },
  {
   "cell_type": "code",
   "execution_count": null,
   "id": "526f67d2",
   "metadata": {},
   "outputs": [],
   "source": []
  }
 ],
 "metadata": {
  "kernelspec": {
   "display_name": "Python 3",
   "language": "python",
   "name": "python3"
  },
  "language_info": {
   "codemirror_mode": {
    "name": "ipython",
    "version": 3
   },
   "file_extension": ".py",
   "mimetype": "text/x-python",
   "name": "python",
   "nbconvert_exporter": "python",
   "pygments_lexer": "ipython3",
   "version": "3.8.8"
  }
 },
 "nbformat": 4,
 "nbformat_minor": 5
}
