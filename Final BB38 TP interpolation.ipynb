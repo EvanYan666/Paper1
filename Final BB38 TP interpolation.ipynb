{
 "cells": [
  {
   "cell_type": "code",
   "execution_count": 1,
   "id": "d02b7686",
   "metadata": {},
   "outputs": [
    {
     "name": "stdout",
     "output_type": "stream",
     "text": [
      "Model: \"sequential\"\n",
      "_________________________________________________________________\n",
      "Layer (type)                 Output Shape              Param #   \n",
      "=================================================================\n",
      "dense (Dense)                (None, 1)                 2         \n",
      "_________________________________________________________________\n",
      "dense_1 (Dense)              (None, 64)                128       \n",
      "_________________________________________________________________\n",
      "dense_2 (Dense)              (None, 32)                2080      \n",
      "_________________________________________________________________\n",
      "dense_3 (Dense)              (None, 16)                528       \n",
      "_________________________________________________________________\n",
      "dense_4 (Dense)              (None, 32)                544       \n",
      "_________________________________________________________________\n",
      "dense_5 (Dense)              (None, 64)                2112      \n",
      "_________________________________________________________________\n",
      "dense_6 (Dense)              (None, 1)                 65        \n",
      "=================================================================\n",
      "Total params: 5,459\n",
      "Trainable params: 5,459\n",
      "Non-trainable params: 0\n",
      "_________________________________________________________________\n"
     ]
    },
    {
     "data": {
      "image/png": "[encoded data removed]",
      "text/plain": [
       "<Figure size 1080x360 with 1 Axes>"
      ]
     },
     "metadata": {
      "needs_background": "light"
     },
     "output_type": "display_data"
    },
    {
     "name": "stdout",
     "output_type": "stream",
     "text": [
      "313/313 [==============================] - 0s 420us/step - loss: 2.8151e-18\n",
      "['loss']\n"
     ]
    }
   ],
   "source": [
    "import glob\n",
    "import numpy as np\n",
    "import matplotlib.pyplot as plt\n",
    "import pandas as pd\n",
    "import numpy as np\n",
    "import sklearn\n",
    "import tensorflow as tf\n",
    "model = tf.keras.models.load_model('C:/Users/yanzh/Interpolation//TP/saved_model/my_modelBB38_TP')\n",
    "# Check its architecture\n",
    "model.summary()\n",
    "\n",
    "df = pd.read_csv(\"E:/1 My Project/Interpolated data/TP_data/BB38.csv\")\n",
    "time = df['time'].values\n",
    "TP = df['TP'].values\n",
    "df\n",
    "\n",
    "#Transform the normalized scale to real scale\n",
    "TP_min = 0.001\n",
    "TP_max = 0.17\n",
    "time_min = 28934.49                      \n",
    "time_max = 44454.35                          \n",
    "\n",
    "newtimepoints_scaled = np.linspace(time[0] - (time[1] - time[0]),time[-1], 10000)\n",
    "y_predicted_scaled = model.predict(newtimepoints_scaled)\n",
    "\n",
    "newtimepoints = newtimepoints_scaled*(time_max - time_min) + time_min\n",
    "y_predicted = y_predicted_scaled*(TP_max - TP_min) + TP_min\n",
    "\n",
    "# Display the result\n",
    "import matplotlib.pylab as pylab\n",
    "params = {'legend.fontsize': 'x-large',\n",
    "          'figure.figsize': (15, 5),\n",
    "         'axes.labelsize': 'x-large',\n",
    "         'axes.titlesize':'x-large',\n",
    "         'xtick.labelsize':'x-large',\n",
    "         'ytick.labelsize':'x-large'}\n",
    "pylab.rcParams.update(params)\n",
    "plt.scatter(time*(time_max - time_min) + time_min, TP*(TP_max - TP_min) + TP_min, label='Original Data')\n",
    "plt.scatter(newtimepoints, y_predicted, c = 'red', s = 1, label = 'Interpolated Data')\n",
    "plt.xlabel('Time')\n",
    "plt.ylabel('TP')\n",
    "plt.legend()\n",
    "plt.show()\n",
    "\n",
    "model.evaluate(newtimepoints_scaled, y_predicted_scaled, batch_size=32)\n",
    "print(model.metrics_names)"
   ]
  },
  {
   "cell_type": "code",
   "execution_count": 2,
   "id": "d8471a4c",
   "metadata": {},
   "outputs": [
    {
     "data": {
      "text/plain": [
       "array([[0.00235266],\n",
       "       [0.00239838],\n",
       "       [0.00244565],\n",
       "       [0.00249293],\n",
       "       [0.0025402 ],\n",
       "       [0.00258747],\n",
       "       [0.00263551],\n",
       "       [0.00268124],\n",
       "       [0.00272851],\n",
       "       [0.00277578],\n",
       "       [0.00282305],\n",
       "       [0.00287032],\n",
       "       [0.00291837],\n",
       "       [0.00296409],\n",
       "       [0.00301137],\n",
       "       [0.00305864],\n",
       "       [0.00310631],\n",
       "       [0.00410927],\n",
       "       [0.00564696],\n",
       "       [0.00713504],\n",
       "       [0.0101649 ],\n",
       "       [0.01707931],\n",
       "       [0.02739421],\n",
       "       [0.02754036],\n",
       "       [0.02769139]], dtype=float32)"
      ]
     },
     "execution_count": 2,
     "metadata": {},
     "output_type": "execute_result"
    }
   ],
   "source": [
    "interpolation = model.predict([0.421041612\n",
    ",0.424843193\n",
    ",0.42877364\n",
    ",0.432704087\n",
    ",0.436634535\n",
    ",0.440564982\n",
    ",0.444559863\n",
    ",0.448361443\n",
    ",0.452291891\n",
    ",0.456222338\n",
    ",0.460152785\n",
    ",0.464083233\n",
    ",0.468078114\n",
    ",0.471879694\n",
    ",0.475810141\n",
    ",0.479740589\n",
    ",0.483671036\n",
    ",0.487601483\n",
    ",0.491596364\n",
    ",0.495462378\n",
    ",0.503323273\n",
    ",0.830774642\n",
    ",0.966149559\n",
    ",0.968082566\n",
    ",0.970080006\n",
    "])\n",
    "interpolation"
   ]
  },
  {
   "cell_type": "code",
   "execution_count": null,
   "id": "593d2220",
   "metadata": {},
   "outputs": [],
   "source": []
  }
 ],
 "metadata": {
  "kernelspec": {
   "display_name": "Python 3",
   "language": "python",
   "name": "python3"
  },
  "language_info": {
   "codemirror_mode": {
    "name": "ipython",
    "version": 3
   },
   "file_extension": ".py",
   "mimetype": "text/x-python",
   "name": "python",
   "nbconvert_exporter": "python",
   "pygments_lexer": "ipython3",
   "version": "3.8.8"
  }
 },
 "nbformat": 4,
 "nbformat_minor": 5
}
